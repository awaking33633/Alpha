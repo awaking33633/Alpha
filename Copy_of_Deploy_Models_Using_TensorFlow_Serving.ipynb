{
  "nbformat": 4,
  "nbformat_minor": 0,
  "metadata": {
    "colab": {
      "name": "Copy of Deploy Models Using TensorFlow Serving.ipynb",
      "provenance": [],
      "collapsed_sections": [],
      "toc_visible": true,
      "include_colab_link": true
    },
    "kernelspec": {
      "name": "python2",
      "display_name": "Python 2"
    },
    "accelerator": "GPU"
  },
  "cells": [
    {
      "cell_type": "markdown",
      "metadata": {
        "id": "view-in-github",
        "colab_type": "text"
      },
      "source": [
        "<a href=\"https://colab.research.google.com/github/blockchain99/Alpha/blob/master/Copy_of_Deploy_Models_Using_TensorFlow_Serving.ipynb\" target=\"_parent\"><img src=\"https://colab.research.google.com/assets/colab-badge.svg\" alt=\"Open In Colab\"/></a>"
      ]
    },
    {
      "cell_type": "markdown",
      "metadata": {
        "id": "o6kbTEHsgaRb",
        "colab_type": "text"
      },
      "source": [
        "# STEP #0: PROBLEM STATEMENT"
      ]
    },
    {
      "cell_type": "markdown",
      "metadata": {
        "id": "o74UO-LQgeIj",
        "colab_type": "text"
      },
      "source": [
        "- In this project, we will build, train and test a model to classify fashion items using TensorFlow 2.0 similar to what we have already done in the past\n",
        "- What's new is that we are going to deploy the model in practice using Tensorflow Serving.\n",
        "- Fashion training set consists of 70,000 images divided into 60,000 training and 10,000 testing samples. Dataset sample consists of 28x28 grayscale image, associated with a label from 10 classes. \n",
        "\n",
        "- The 10 classes are as follows:  \n",
        "  - 0 => T-shirt/top\n",
        "  - 1 => Trouser\n",
        "  - 2 => Pullover\n",
        "  - 3 => Dress\n",
        "  - 4 => Coat\n",
        "  - 5 => Sandal\n",
        "  - 6 => Shirt\n",
        "  - 7 => Sneaker\n",
        "  - 8 => Bag\n",
        "  - 9 => Ankle boot\n",
        "\n",
        "- Each image is 28 pixels in height and 28 pixels in width, for a total of 784 pixels in total. Each pixel has a single pixel-value associated with it, indicating the lightness or darkness of that pixel, with higher numbers meaning darker. This pixel-value is an integer between 0 and 255. \n",
        "\n",
        "- Note: TF serving code section is based upon the TensorFlow 2.0 Documentation: https://www.tensorflow.org/tfx/serving/tutorials/Serving_REST_simple "
      ]
    },
    {
      "cell_type": "markdown",
      "metadata": {
        "id": "yCrzPgLp7W1h",
        "colab_type": "text"
      },
      "source": [
        "## STEP #1: IMPORT PACKAGES"
      ]
    },
    {
      "cell_type": "code",
      "metadata": {
        "id": "JH6B6mQBgHT1",
        "colab_type": "code",
        "outputId": "1a5bfd12-6a8f-4f60-a136-f272da0b41ba",
        "colab": {
          "base_uri": "https://localhost:8080/",
          "height": 65
        }
      },
      "source": [
        "import tensorflow as tf\n",
        "import random\n",
        "import json\n",
        "import numpy as np\n",
        "import matplotlib.pyplot as plt\n",
        "import os\n",
        "import tempfile\n"
      ],
      "execution_count": 1,
      "outputs": [
        {
          "output_type": "display_data",
          "data": {
            "text/plain": [
              "<IPython.core.display.HTML object>"
            ],
            "text/html": [
              "<p style=\"color: red;\">\n",
              "The default version of TensorFlow in Colab will soon switch to TensorFlow 2.x.<br>\n",
              "We recommend you <a href=\"https://www.tensorflow.org/guide/migrate\" target=\"_blank\">upgrade</a> now \n",
              "or ensure your notebook will continue to use TensorFlow 1.x via the <code>%tensorflow_version 1.x</code> magic:\n",
              "<a href=\"https://colab.research.google.com/notebooks/tensorflow_version.ipynb\" target=\"_blank\">more info</a>.</p>\n"
            ]
          },
          "metadata": {
            "tags": []
          }
        }
      ]
    },
    {
      "cell_type": "markdown",
      "metadata": {
        "id": "x1ly9iCehER1",
        "colab_type": "text"
      },
      "source": [
        "# STEP #2: IMPORT DATASET"
      ]
    },
    {
      "cell_type": "code",
      "metadata": {
        "id": "FbhfksXVg44A",
        "colab_type": "code",
        "outputId": "5fa9c7ab-e77d-4254-f112-409d5c5fefa7",
        "colab": {
          "base_uri": "https://localhost:8080/",
          "height": 217
        }
      },
      "source": [
        "# import Fashion MNIST Dataset using Keras \n",
        "(X_train, y_train), (X_test, y_test) = tf.keras.datasets.fashion_mnist.load_data()"
      ],
      "execution_count": 2,
      "outputs": [
        {
          "output_type": "stream",
          "text": [
            "Downloading data from https://storage.googleapis.com/tensorflow/tf-keras-datasets/train-labels-idx1-ubyte.gz\n",
            "32768/29515 [=================================] - 0s 0us/step\n",
            "40960/29515 [=========================================] - 0s 0us/step\n",
            "Downloading data from https://storage.googleapis.com/tensorflow/tf-keras-datasets/train-images-idx3-ubyte.gz\n",
            "26427392/26421880 [==============================] - 1s 0us/step\n",
            "26435584/26421880 [==============================] - 1s 0us/step\n",
            "Downloading data from https://storage.googleapis.com/tensorflow/tf-keras-datasets/t10k-labels-idx1-ubyte.gz\n",
            "16384/5148 [===============================================================================================] - 0s 0us/step\n",
            "Downloading data from https://storage.googleapis.com/tensorflow/tf-keras-datasets/t10k-images-idx3-ubyte.gz\n",
            "4423680/4422102 [==============================] - 0s 0us/step\n",
            "4431872/4422102 [==============================] - 0s 0us/step\n"
          ],
          "name": "stdout"
        }
      ]
    },
    {
      "cell_type": "code",
      "metadata": {
        "id": "Wiq4GQLKhLbe",
        "colab_type": "code",
        "colab": {}
      },
      "source": [
        "# Data Normalization -> Between 0 and 1 \n",
        "X_train = X_train / 255.0\n",
        "X_test = X_test / 255.0\n"
      ],
      "execution_count": 0,
      "outputs": []
    },
    {
      "cell_type": "code",
      "metadata": {
        "id": "msBye7EfxgI1",
        "colab_type": "code",
        "outputId": "a38fd39a-da59-43a7-8e06-18ad69be43a9",
        "colab": {
          "base_uri": "https://localhost:8080/",
          "height": 35
        }
      },
      "source": [
        "X_train.shape"
      ],
      "execution_count": 4,
      "outputs": [
        {
          "output_type": "execute_result",
          "data": {
            "text/plain": [
              "(60000, 28, 28)"
            ]
          },
          "metadata": {
            "tags": []
          },
          "execution_count": 4
        }
      ]
    },
    {
      "cell_type": "code",
      "metadata": {
        "id": "vVrtMMCgxnka",
        "colab_type": "code",
        "outputId": "d47cb4ec-4bee-42fa-e854-a84fac4f65fd",
        "colab": {
          "base_uri": "https://localhost:8080/",
          "height": 35
        }
      },
      "source": [
        "X_test.shape"
      ],
      "execution_count": 5,
      "outputs": [
        {
          "output_type": "execute_result",
          "data": {
            "text/plain": [
              "(10000, 28, 28)"
            ]
          },
          "metadata": {
            "tags": []
          },
          "execution_count": 5
        }
      ]
    },
    {
      "cell_type": "code",
      "metadata": {
        "id": "P1HUwLz3hMak",
        "colab_type": "code",
        "colab": {}
      },
      "source": [
        "# Reshape training data to be = (60000, 28, 28, 1) instead of (60000, 28,28)\n",
        "X_train = X_train.reshape(X_train.shape[0], 28, 28, 1)\n"
      ],
      "execution_count": 0,
      "outputs": []
    },
    {
      "cell_type": "code",
      "metadata": {
        "id": "p9c_5Z2SyBuJ",
        "colab_type": "code",
        "outputId": "be65fe22-14e8-45ac-8839-8267225df447",
        "colab": {
          "base_uri": "https://localhost:8080/",
          "height": 35
        }
      },
      "source": [
        "X_train.shape"
      ],
      "execution_count": 7,
      "outputs": [
        {
          "output_type": "execute_result",
          "data": {
            "text/plain": [
              "(60000, 28, 28, 1)"
            ]
          },
          "metadata": {
            "tags": []
          },
          "execution_count": 7
        }
      ]
    },
    {
      "cell_type": "code",
      "metadata": {
        "id": "3Lh3TY_Jx6tt",
        "colab_type": "code",
        "colab": {}
      },
      "source": [
        "# Do the same for the testing dataset\n",
        "X_test = X_test.reshape(X_test.shape[0], 28, 28, 1)"
      ],
      "execution_count": 0,
      "outputs": []
    },
    {
      "cell_type": "code",
      "metadata": {
        "id": "-UUp6ROshioF",
        "colab_type": "code",
        "outputId": "3a8596fb-6d1d-4c53-ab22-79e3d09c6aad",
        "colab": {
          "base_uri": "https://localhost:8080/",
          "height": 35
        }
      },
      "source": [
        "X_test.shape"
      ],
      "execution_count": 9,
      "outputs": [
        {
          "output_type": "execute_result",
          "data": {
            "text/plain": [
              "(10000, 28, 28, 1)"
            ]
          },
          "metadata": {
            "tags": []
          },
          "execution_count": 9
        }
      ]
    },
    {
      "cell_type": "code",
      "metadata": {
        "id": "dvS-P-24hh8X",
        "colab_type": "code",
        "colab": {}
      },
      "source": [
        "\n",
        "class_names = ['T-shirt/top', 'Trouser', 'Pullover', 'Dress', 'Coat',\n",
        "               'Sandal', 'Shirt', 'Sneaker', 'Bag', 'Ankle boot']\n"
      ],
      "execution_count": 0,
      "outputs": []
    },
    {
      "cell_type": "code",
      "metadata": {
        "id": "fi5_V_ZKzrSx",
        "colab_type": "code",
        "outputId": "7baf4eb9-383a-4756-8b6c-4d8fdd4510cd",
        "colab": {
          "base_uri": "https://localhost:8080/",
          "height": 35
        }
      },
      "source": [
        "len(X_train)"
      ],
      "execution_count": 11,
      "outputs": [
        {
          "output_type": "execute_result",
          "data": {
            "text/plain": [
              "60000"
            ]
          },
          "metadata": {
            "tags": []
          },
          "execution_count": 11
        }
      ]
    },
    {
      "cell_type": "code",
      "metadata": {
        "id": "vdOwUT2cy5cX",
        "colab_type": "code",
        "outputId": "c8a6a3e5-9d40-492e-cc47-467ab369c001",
        "colab": {
          "base_uri": "https://localhost:8080/",
          "height": 879
        }
      },
      "source": [
        "W_grid = 4\n",
        "L_grid = 4\n",
        "\n",
        "fig, axes = plt.subplots(L_grid, W_grid, figsize = (15, 15))\n",
        "axes = axes.ravel()\n",
        "\n",
        "n_training = len(X_train)\n",
        "\n",
        "for i in np.arange(0, L_grid * W_grid):\n",
        "    index = np.random.randint(0, n_training) # pick a random number\n",
        "    axes[i].imshow(X_train[index].reshape(28,28))\n",
        "    axes[i].set_title(y_train[index])\n",
        "    axes[i].axis('off')\n",
        "    \n",
        "plt.subplots_adjust(hspace = 0.4)"
      ],
      "execution_count": 12,
      "outputs": [
        {
          "output_type": "display_data",
          "data": {
            "image/png": "[encoded data removed]",
            "text/plain": [
              "<Figure size 1080x1080 with 16 Axes>"
            ]
          },
          "metadata": {
            "tags": []
          }
        }
      ]
    },
    {
      "cell_type": "markdown",
      "metadata": {
        "id": "iU01OdjbhoKJ",
        "colab_type": "text"
      },
      "source": [
        "# STEP #3: BUILD, TRAIN AND TEST THE MODEL"
      ]
    },
    {
      "cell_type": "code",
      "metadata": {
        "id": "7Sx9lFlIht6W",
        "colab_type": "code",
        "outputId": "ed048f8d-f74d-4256-9e2e-4e6b5479be33",
        "colab": {
          "base_uri": "https://localhost:8080/",
          "height": 474
        }
      },
      "source": [
        "cnn = tf.keras.models.Sequential()\n",
        "\n",
        "cnn.add(tf.keras.layers.Conv2D(32, (3,3), activation = 'relu', input_shape = (28,28,1)))\n",
        "cnn.add(tf.keras.layers.MaxPooling2D(2,2))\n",
        "\n",
        "cnn.add(tf.keras.layers.Conv2D(64, (3, 3), activation='relu'))\n",
        "\n",
        "cnn.add(tf.keras.layers.Flatten())\n",
        "\n",
        "cnn.add(tf.keras.layers.Dense(64, activation = 'relu'))\n",
        "\n",
        "cnn.add(tf.keras.layers.Dense(10, activation = 'softmax'))\n",
        "cnn.summary()"
      ],
      "execution_count": 13,
      "outputs": [
        {
          "output_type": "stream",
          "text": [
            "WARNING: Logging before flag parsing goes to stderr.\n",
            "W1214 05:15:36.706178 140083690465152 deprecation.py:506] From /usr/local/lib/python2.7/dist-packages/tensorflow_core/python/ops/resource_variable_ops.py:1630: calling __init__ (from tensorflow.python.ops.resource_variable_ops) with constraint is deprecated and will be removed in a future version.\n",
            "Instructions for updating:\n",
            "If using Keras pass *_constraint arguments to layers.\n"
          ],
          "name": "stderr"
        },
        {
          "output_type": "stream",
          "text": [
            "Model: \"sequential\"\n",
            "_________________________________________________________________\n",
            "Layer (type)                 Output Shape              Param #   \n",
            "=================================================================\n",
            "conv2d (Conv2D)              (None, 26, 26, 32)        320       \n",
            "_________________________________________________________________\n",
            "max_pooling2d (MaxPooling2D) (None, 13, 13, 32)        0         \n",
            "_________________________________________________________________\n",
            "conv2d_1 (Conv2D)            (None, 11, 11, 64)        18496     \n",
            "_________________________________________________________________\n",
            "flatten (Flatten)            (None, 7744)              0         \n",
            "_________________________________________________________________\n",
            "dense (Dense)                (None, 64)                495680    \n",
            "_________________________________________________________________\n",
            "dense_1 (Dense)              (None, 10)                650       \n",
            "=================================================================\n",
            "Total params: 515,146\n",
            "Trainable params: 515,146\n",
            "Non-trainable params: 0\n",
            "_________________________________________________________________\n"
          ],
          "name": "stdout"
        }
      ]
    },
    {
      "cell_type": "code",
      "metadata": {
        "id": "TeRGYB-khwFA",
        "colab_type": "code",
        "colab": {}
      },
      "source": [
        "epochs = 5\n",
        "\n",
        "cnn.compile(optimizer=tf.train.AdamOptimizer(), \n",
        "              loss='sparse_categorical_crossentropy',\n",
        "              metrics=['accuracy'])\n"
      ],
      "execution_count": 0,
      "outputs": []
    },
    {
      "cell_type": "code",
      "metadata": {
        "id": "m1eDzfqih2FY",
        "colab_type": "code",
        "outputId": "38e852e3-7dce-4a09-8518-33f320704214",
        "colab": {
          "base_uri": "https://localhost:8080/",
          "height": 272
        }
      },
      "source": [
        "cnn.fit(X_train, y_train, epochs=epochs)\n",
        "\n",
        "test_loss, test_acc = cnn.evaluate(X_test, y_test)\n",
        "print('\\nTest accuracy: {}'.format(test_acc))"
      ],
      "execution_count": 15,
      "outputs": [
        {
          "output_type": "stream",
          "text": [
            "Train on 60000 samples\n",
            "Epoch 1/5\n",
            "60000/60000 [==============================] - 13s 223us/sample - loss: 0.4010 - acc: 0.8573\n",
            "Epoch 2/5\n",
            "60000/60000 [==============================] - 10s 169us/sample - loss: 0.2636 - acc: 0.9045\n",
            "Epoch 3/5\n",
            "60000/60000 [==============================] - 10s 169us/sample - loss: 0.2191 - acc: 0.9189\n",
            "Epoch 4/5\n",
            "60000/60000 [==============================] - 10s 169us/sample - loss: 0.1835 - acc: 0.9324\n",
            "Epoch 5/5\n",
            "60000/60000 [==============================] - 10s 169us/sample - loss: 0.1550 - acc: 0.9424\n",
            "10000/10000 [==============================] - 1s 96us/sample - loss: 0.2410 - acc: 0.9159\n",
            "\n",
            "Test accuracy: 0.915899991989\n"
          ],
          "name": "stdout"
        }
      ]
    },
    {
      "cell_type": "markdown",
      "metadata": {
        "id": "k-hlIDqfh9oX",
        "colab_type": "text"
      },
      "source": [
        "# STEP #4: SAVE THE MODEL"
      ]
    },
    {
      "cell_type": "markdown",
      "metadata": {
        "id": "oKGNNXB1iUCB",
        "colab_type": "text"
      },
      "source": [
        "- We now need to save our trained model and it has to be saved in a SavedModel format.\n",
        "- The model will have a version number and will be saved in a structured directory \n",
        "- tf.saved_model.simple_save is a function used to build a saved model that is suitable for serving using Tensorflow Serving. \n",
        "- After the model is saved, we can now use TensorFlow Serving to start making inference requests using a specific version of our trained model \"servable\".\n",
        "- Use SavedModel to save and load your model—variables, the graph, and the graph's metadata. \n",
        "- This is a language-neutral, recoverable, hermetic serialization format that enables higher-level systems and tools to produce, consume, and transform TensorFlow models.\n",
        "- simple_save offers a very easy way to save a model as follows: \n",
        "\n",
        "  - simple_save(session,\n",
        "            export_dir,\n",
        "            inputs={\"x\": x, \"y\": y},\n",
        "            outputs={\"z\": z})\n",
        "            \n",
        "- Check this out for more information: \n",
        "https://www.tensorflow.org/guide/saved_model"
      ]
    },
    {
      "cell_type": "code",
      "metadata": {
        "id": "wgTRGCqSh9az",
        "colab_type": "code",
        "colab": {}
      },
      "source": [
        "# Let's obtain a temporary storage directory\n",
        "MODEL_DIR = tempfile.gettempdir()"
      ],
      "execution_count": 0,
      "outputs": []
    },
    {
      "cell_type": "code",
      "metadata": {
        "id": "J7mLmAw3jfNX",
        "colab_type": "code",
        "outputId": "aef7635f-ba72-4ebb-8fb8-bf8e7fcc3c67",
        "colab": {
          "base_uri": "https://localhost:8080/",
          "height": 35
        }
      },
      "source": [
        "MODEL_DIR"
      ],
      "execution_count": 17,
      "outputs": [
        {
          "output_type": "execute_result",
          "data": {
            "text/plain": [
              "'/tmp'"
            ]
          },
          "metadata": {
            "tags": []
          },
          "execution_count": 17
        }
      ]
    },
    {
      "cell_type": "code",
      "metadata": {
        "id": "lOkq8bMejgHX",
        "colab_type": "code",
        "colab": {}
      },
      "source": [
        "# Let's specify the model version, choose #1 for now \n",
        "version = 1 "
      ],
      "execution_count": 0,
      "outputs": []
    },
    {
      "cell_type": "code",
      "metadata": {
        "id": "JCyIxt7Xj43C",
        "colab_type": "code",
        "outputId": "0758a5dd-a13e-4cee-943a-6a46a6356cbe",
        "colab": {
          "base_uri": "https://localhost:8080/",
          "height": 54
        }
      },
      "source": [
        "# Let's join the temp model directory with our chosen version number \n",
        "# The expected result will be = '\\tmp\\version number'\n",
        "export_path = os.path.join(MODEL_DIR, str(version))\n",
        "print('export_path = {}\\n'.format(export_path))"
      ],
      "execution_count": 19,
      "outputs": [
        {
          "output_type": "stream",
          "text": [
            "export_path = /tmp/1\n",
            "\n"
          ],
          "name": "stdout"
        }
      ]
    },
    {
      "cell_type": "code",
      "metadata": {
        "id": "raMbK1M7j8Yh",
        "colab_type": "code",
        "outputId": "3b1e7b88-83de-42db-e983-9f67cf160770",
        "colab": {
          "base_uri": "https://localhost:8080/",
          "height": 146
        }
      },
      "source": [
        "# Let's save the model using simple_save\n",
        "# If the directory already exists, we will remove it using '!rm' \n",
        "# rm removes each file specified on the command line. \n",
        "\n",
        "if os.path.isdir(export_path):\n",
        "  print('\\nAlready saved a model, cleaning up\\n')\n",
        "  !rm -r {export_path}\n",
        "\n",
        "tf.saved_model.simple_save(\n",
        "    tf.keras.backend.get_session(),\n",
        "    export_path,\n",
        "    inputs={'input_image': cnn.input},\n",
        "    outputs={t.name:t for t in cnn.outputs})\n"
      ],
      "execution_count": 20,
      "outputs": [
        {
          "output_type": "stream",
          "text": [
            "W1214 05:16:35.750973 140083690465152 deprecation.py:323] From <ipython-input-20-d131386b50f9>:10: simple_save (from tensorflow.python.saved_model.simple_save) is deprecated and will be removed in a future version.\n",
            "Instructions for updating:\n",
            "This function will only be available through the v1 compatibility library as tf.compat.v1.saved_model.simple_save.\n",
            "W1214 05:16:35.752856 140083690465152 deprecation.py:323] From /usr/local/lib/python2.7/dist-packages/tensorflow_core/python/saved_model/signature_def_utils_impl.py:201: build_tensor_info (from tensorflow.python.saved_model.utils_impl) is deprecated and will be removed in a future version.\n",
            "Instructions for updating:\n",
            "This function will only be available through the v1 compatibility library as tf.compat.v1.saved_model.utils.build_tensor_info or tf.compat.v1.saved_model.build_tensor_info.\n"
          ],
          "name": "stderr"
        }
      ]
    },
    {
      "cell_type": "code",
      "metadata": {
        "id": "OUnZKrFUqGel",
        "colab_type": "code",
        "outputId": "80892b39-1587-45dd-961d-2a581f62c6f1",
        "colab": {
          "base_uri": "https://localhost:8080/",
          "height": 72
        }
      },
      "source": [
        "!ls -l {export_path}"
      ],
      "execution_count": 21,
      "outputs": [
        {
          "output_type": "stream",
          "text": [
            "total 100\n",
            "-rw-r--r-- 1 root root 97603 Dec 14 05:16 saved_model.pb\n",
            "drwxr-xr-x 2 root root  4096 Dec 14 05:16 variables\n"
          ],
          "name": "stdout"
        }
      ]
    },
    {
      "cell_type": "markdown",
      "metadata": {
        "id": "29Pe_MdvosVq",
        "colab_type": "text"
      },
      "source": [
        "# STEP #5: EXPLORE OUR SAVED MODEL"
      ]
    },
    {
      "cell_type": "markdown",
      "metadata": {
        "id": "2VcYU9ZlowoB",
        "colab_type": "text"
      },
      "source": [
        "- saved_model_cli will be used to explore MetaGraphDefs (the models) and SignatureDefs (the methods you can call) in our SavedModel. \n",
        "- A MetaGraph is a dataflow graph, plus its associated variables, assets, and signatures. \n",
        "- A signature is the set of inputs to and outputs from a graph."
      ]
    },
    {
      "cell_type": "code",
      "metadata": {
        "id": "SEHscgCMkovz",
        "colab_type": "code",
        "outputId": "3fad8051-7a3e-445f-812a-ea9b184fe77b",
        "colab": {
          "base_uri": "https://localhost:8080/",
          "height": 290
        }
      },
      "source": [
        "# Now we can view our saved model\n",
        "!saved_model_cli show --dir {export_path} --all"
      ],
      "execution_count": 22,
      "outputs": [
        {
          "output_type": "stream",
          "text": [
            "\n",
            "MetaGraphDef with tag-set: 'serve' contains the following SignatureDefs:\n",
            "\n",
            "signature_def['serving_default']:\n",
            "  The given SavedModel SignatureDef contains the following input(s):\n",
            "    inputs['input_image'] tensor_info:\n",
            "        dtype: DT_FLOAT\n",
            "        shape: (-1, 28, 28, 1)\n",
            "        name: conv2d_input:0\n",
            "  The given SavedModel SignatureDef contains the following output(s):\n",
            "    outputs['dense_1/Softmax:0'] tensor_info:\n",
            "        dtype: DT_FLOAT\n",
            "        shape: (-1, 10)\n",
            "        name: dense_1/Softmax:0\n",
            "  Method name is: tensorflow/serving/predict\n"
          ],
          "name": "stdout"
        }
      ]
    },
    {
      "cell_type": "markdown",
      "metadata": {
        "id": "dcgj7TWAlkIA",
        "colab_type": "text"
      },
      "source": [
        "# STEP #6: SERVE THE MODEL USING TENSORFLOW SERVING"
      ]
    },
    {
      "cell_type": "markdown",
      "metadata": {
        "id": "xCEZ9lvgln3X",
        "colab_type": "text"
      },
      "source": [
        "  # STEP 6.1: Let's add tensorflow-model-server package to our list of packages "
      ]
    },
    {
      "cell_type": "code",
      "metadata": {
        "id": "AwjH17Tal2jv",
        "colab_type": "code",
        "outputId": "009f6671-97d5-4d13-cf3c-40994332d058",
        "colab": {
          "base_uri": "https://localhost:8080/",
          "height": 508
        }
      },
      "source": [
        "!echo \"deb http://storage.googleapis.com/tensorflow-serving-apt stable tensorflow-model-server tensorflow-model-server-universal\" | tee /etc/apt/sources.list.d/tensorflow-serving.list && \\\n",
        "curl https://storage.googleapis.com/tensorflow-serving-apt/tensorflow-serving.release.pub.gpg | apt-key add -\n",
        "!apt update"
      ],
      "execution_count": 23,
      "outputs": [
        {
          "output_type": "stream",
          "text": [
            "deb http://storage.googleapis.com/tensorflow-serving-apt stable tensorflow-model-server tensorflow-model-server-universal\n",
            "  % Total    % Received % Xferd  Average Speed   Time    Time     Time  Current\n",
            "                                 Dload  Upload   Total   Spent    Left  Speed\n",
            "\r  0     0    0     0    0     0      0      0 --:--:-- --:--:-- --:--:--     0\r100  2943  100  2943    0     0  10044      0 --:--:-- --:--:-- --:--:-- 10044\n",
            "OK\n",
            "Get:1 http://storage.googleapis.com/tensorflow-serving-apt stable InRelease [3,012 B]\n",
            "Ign:2 https://developer.download.nvidia.com/compute/cuda/repos/ubuntu1804/x86_64  InRelease\n",
            "Ign:3 https://developer.download.nvidia.com/compute/machine-learning/repos/ubuntu1804/x86_64  InRelease\n",
            "Hit:4 https://developer.download.nvidia.com/compute/cuda/repos/ubuntu1804/x86_64  Release\n",
            "Hit:5 https://developer.download.nvidia.com/compute/machine-learning/repos/ubuntu1804/x86_64  Release\n",
            "Get:6 https://cloud.r-project.org/bin/linux/ubuntu bionic-cran35/ InRelease [3,626 B]\n",
            "Get:7 http://security.ubuntu.com/ubuntu bionic-security InRelease [88.7 kB]\n",
            "Hit:8 http://ppa.launchpad.net/graphics-drivers/ppa/ubuntu bionic InRelease\n",
            "Hit:11 http://archive.ubuntu.com/ubuntu bionic InRelease\n",
            "Get:12 http://storage.googleapis.com/tensorflow-serving-apt stable/tensorflow-model-server amd64 Packages [354 B]\n",
            "Get:13 http://archive.ubuntu.com/ubuntu bionic-updates InRelease [88.7 kB]\n",
            "Hit:14 http://ppa.launchpad.net/marutter/c2d4u3.5/ubuntu bionic InRelease\n",
            "Get:15 http://storage.googleapis.com/tensorflow-serving-apt stable/tensorflow-model-server-universal amd64 Packages [364 B]\n",
            "Get:16 https://cloud.r-project.org/bin/linux/ubuntu bionic-cran35/ Packages [79.0 kB]\n",
            "Get:17 http://archive.ubuntu.com/ubuntu bionic-backports InRelease [74.6 kB]\n",
            "Get:18 http://archive.ubuntu.com/ubuntu bionic-updates/main amd64 Packages [1,057 kB]\n",
            "Get:19 http://archive.ubuntu.com/ubuntu bionic-updates/universe amd64 Packages [1,322 kB]\n",
            "Fetched 2,718 kB in 4s (703 kB/s)\n",
            "Reading package lists... Done\n",
            "Building dependency tree       \n",
            "Reading state information... Done\n",
            "11 packages can be upgraded. Run 'apt list --upgradable' to see them.\n"
          ],
          "name": "stdout"
        }
      ]
    },
    {
      "cell_type": "markdown",
      "metadata": {
        "id": "r0rJEorwuNK_",
        "colab_type": "text"
      },
      "source": [
        "# Step 6.2: Let's install tensorflow model server:"
      ]
    },
    {
      "cell_type": "code",
      "metadata": {
        "id": "TJ3t-7_huGn0",
        "colab_type": "code",
        "outputId": "4d8e12db-d832-4499-d52e-6342eb185df6",
        "colab": {
          "base_uri": "https://localhost:8080/",
          "height": 345
        }
      },
      "source": [
        "!apt-get install tensorflow-model-server"
      ],
      "execution_count": 24,
      "outputs": [
        {
          "output_type": "stream",
          "text": [
            "Reading package lists... Done\n",
            "Building dependency tree       \n",
            "Reading state information... Done\n",
            "The following package was automatically installed and is no longer required:\n",
            "  libnvidia-common-430\n",
            "Use 'apt autoremove' to remove it.\n",
            "The following NEW packages will be installed:\n",
            "  tensorflow-model-server\n",
            "0 upgraded, 1 newly installed, 0 to remove and 11 not upgraded.\n",
            "Need to get 140 MB of archives.\n",
            "After this operation, 0 B of additional disk space will be used.\n",
            "Get:1 http://storage.googleapis.com/tensorflow-serving-apt stable/tensorflow-model-server amd64 tensorflow-model-server all 2.0.0 [140 MB]\n",
            "Fetched 140 MB in 3s (52.1 MB/s)\n",
            "Selecting previously unselected package tensorflow-model-server.\n",
            "(Reading database ... 145655 files and directories currently installed.)\n",
            "Preparing to unpack .../tensorflow-model-server_2.0.0_all.deb ...\n",
            "Unpacking tensorflow-model-server (2.0.0) ...\n",
            "Setting up tensorflow-model-server (2.0.0) ...\n"
          ],
          "name": "stdout"
        }
      ]
    },
    {
      "cell_type": "markdown",
      "metadata": {
        "id": "YQZtl38Jy-pg",
        "colab_type": "text"
      },
      "source": [
        "# Step 6.3: Let's run TensorFlow serving"
      ]
    },
    {
      "cell_type": "markdown",
      "metadata": {
        "id": "BR8CQlZBuacO",
        "colab_type": "text"
      },
      "source": [
        "- We will load our model and start making inferences (predictions) based on it.\n",
        "- There are some important parameters:\n",
        "\n",
        "  - rest_api_port: The port that you'll use for REST requests.\n",
        "  - model_name: You'll use this in the URL of REST requests. You can choose any name\n",
        "  - model_base_path: This is the path to the directory where you've saved your model.\n",
        "  \n",
        "- For more information regarding REST, check this out: \n",
        "https://www.codecademy.com/articles/what-is-rest\n",
        "- REST is a revival of HTTP in which http commands have semantic meaning. "
      ]
    },
    {
      "cell_type": "code",
      "metadata": {
        "id": "nQO-ysCMuU5L",
        "colab_type": "code",
        "colab": {}
      },
      "source": [
        "os.environ[\"MODEL_DIR\"] = MODEL_DIR"
      ],
      "execution_count": 0,
      "outputs": []
    },
    {
      "cell_type": "code",
      "metadata": {
        "id": "c_aqNwe2x4G9",
        "colab_type": "code",
        "outputId": "e0ba7d9d-9ec1-40db-e5cf-f8fa832c5754",
        "colab": {
          "base_uri": "https://localhost:8080/",
          "height": 35
        }
      },
      "source": [
        "%%bash --bg \n",
        "nohup tensorflow_model_server \\\n",
        "  --rest_api_port=8501 \\\n",
        "  --model_name=fashion_model \\\n",
        "  --model_base_path=\"${MODEL_DIR}\" >server.log 2>&1\n"
      ],
      "execution_count": 26,
      "outputs": [
        {
          "output_type": "stream",
          "text": [
            "Starting job # 0 in a separate thread.\n"
          ],
          "name": "stdout"
        }
      ]
    },
    {
      "cell_type": "code",
      "metadata": {
        "id": "1c9MjQK_x46N",
        "colab_type": "code",
        "outputId": "a6d9b0d5-c45f-40cf-a60a-aaeed2aa2713",
        "colab": {
          "base_uri": "https://localhost:8080/",
          "height": 219
        }
      },
      "source": [
        "!tail server.log"
      ],
      "execution_count": 27,
      "outputs": [
        {
          "output_type": "stream",
          "text": [
            "2019-12-14 05:17:01.662074: I external/org_tensorflow/tensorflow/cc/saved_model/reader.cc:54] Reading meta graph with tags { serve }\n",
            "2019-12-14 05:17:01.663573: I external/org_tensorflow/tensorflow/core/platform/cpu_feature_guard.cc:142] Your CPU supports instructions that this TensorFlow binary was not compiled to use: AVX2 FMA\n",
            "2019-12-14 05:17:01.677613: I external/org_tensorflow/tensorflow/cc/saved_model/loader.cc:202] Restoring SavedModel bundle.\n",
            "2019-12-14 05:17:01.702972: I external/org_tensorflow/tensorflow/cc/saved_model/loader.cc:311] SavedModel load for tags { serve }; Status: success. Took 42604 microseconds.\n",
            "2019-12-14 05:17:01.703616: I tensorflow_serving/servables/tensorflow/saved_model_warmup.cc:105] No warmup data file found at /tmp/1/assets.extra/tf_serving_warmup_requests\n",
            "2019-12-14 05:17:01.703708: I tensorflow_serving/core/loader_harness.cc:87] Successfully loaded servable version {name: fashion_model version: 1}\n",
            "2019-12-14 05:17:01.704864: I tensorflow_serving/model_servers/server.cc:353] Running gRPC ModelServer at 0.0.0.0:8500 ...\n",
            "[warn] getaddrinfo: address family for nodename not supported\n",
            "[evhttp_server.cc : 238] NET_LOG: Entering the event loop ...\n",
            "2019-12-14 05:17:01.705561: I tensorflow_serving/model_servers/server.cc:373] Exporting HTTP/REST API at:localhost:8501 ...\n"
          ],
          "name": "stdout"
        }
      ]
    },
    {
      "cell_type": "markdown",
      "metadata": {
        "id": "Yyts_cHHzlEE",
        "colab_type": "text"
      },
      "source": [
        "- **Congratulations! now we have successfully loaded a servable version of our model {name: fashion_model version: 1}** "
      ]
    },
    {
      "cell_type": "markdown",
      "metadata": {
        "id": "NuaqxuY8zW-X",
        "colab_type": "text"
      },
      "source": [
        "# STEP 6.4: Let's start making requests in TensorFlow Serving"
      ]
    },
    {
      "cell_type": "code",
      "metadata": {
        "id": "Z96PlewJyI7N",
        "colab_type": "code",
        "colab": {}
      },
      "source": [
        "def show(idx, title):\n",
        "  plt.figure()\n",
        "  plt.imshow(X_test[idx].reshape(28,28))\n",
        "  plt.title('\\n\\n{}'.format(title), fontdict={'size': 16})\n"
      ],
      "execution_count": 0,
      "outputs": []
    },
    {
      "cell_type": "code",
      "metadata": {
        "id": "BVzkMzX5zo6I",
        "colab_type": "code",
        "outputId": "976aabae-8514-44f4-de18-70ea151a8d80",
        "colab": {
          "base_uri": "https://localhost:8080/",
          "height": 391
        }
      },
      "source": [
        "rando = random.randint(0,len(X_test)-1)\n",
        "print(\"rando :\", rando)\n",
        "print(\"y_test, length : \",y_test, len(y_test))\n",
        "print(\"set(y_test) : \", set(y_test))\n",
        "print(y_test[rando])\n",
        "show(rando, 'An Example Image: {}'.format(class_names[y_test[rando]]))"
      ],
      "execution_count": 42,
      "outputs": [
        {
          "output_type": "stream",
          "text": [
            "('rando :', 1805)\n",
            "('y_test, length : ', array([9, 2, 1, ..., 8, 1, 5], dtype=uint8), 10000)\n",
            "('set(y_test) : ', set([0, 1, 2, 3, 4, 5, 6, 7, 8, 9]))\n",
            "9\n"
          ],
          "name": "stdout"
        },
        {
          "output_type": "display_data",
          "data": {
            "image/png": "[encoded data removed]",
            "text/plain": [
              "<Figure size 432x288 with 1 Axes>"
            ]
          },
          "metadata": {
            "tags": []
          }
        }
      ]
    },
    {
      "cell_type": "code",
      "metadata": {
        "id": "OOANMKEPzvGj",
        "colab_type": "code",
        "outputId": "5922b8fb-ed76-4bd1-c2d2-c993380fbf20",
        "colab": {
          "base_uri": "https://localhost:8080/",
          "height": 35
        }
      },
      "source": [
        "# Let's create a JSON object and make 3 inference requests\n",
        "# X_test.shape: (10000, 28, 28, 1)\n",
        "data = json.dumps({\"signature_name\": \"serving_default\", \"instances\": X_test[0:3].tolist()}) #select 3 images\n",
        "print('Data: {} ... {}'.format(data[:50], data[len(data)-52:]))"
      ],
      "execution_count": 45,
      "outputs": [
        {
          "output_type": "stream",
          "text": [
            "Data: {\"instances\": [[[[0.0], [0.0], [0.0], [0.0], [0.0] ... 0.0], [0.0]]]], \"signature_name\": \"serving_default\"}\n"
          ],
          "name": "stdout"
        }
      ]
    },
    {
      "cell_type": "code",
      "metadata": {
        "id": "bU7MGFsd3xyf",
        "colab_type": "code",
        "colab": {}
      },
      "source": [
        "!pip install -q requests\n"
      ],
      "execution_count": 0,
      "outputs": []
    },
    {
      "cell_type": "code",
      "metadata": {
        "id": "JC7R3Xp-3PS4",
        "colab_type": "code",
        "colab": {}
      },
      "source": [
        "\n",
        "import requests\n"
      ],
      "execution_count": 0,
      "outputs": []
    },
    {
      "cell_type": "code",
      "metadata": {
        "id": "TABtyXff31XA",
        "colab_type": "code",
        "colab": {}
      },
      "source": [
        "headers = {\"content-type\": \"application/json\"}\n",
        "#predict is mothod of calling the model\n",
        "json_response = requests.post('http://localhost:8501/v1/models/fashion_model:predict', data=data, headers=headers)\n",
        "#decode the message coming from the server-> that will be my prediction. \n",
        "predictions = json.loads(json_response.text)['predictions']\n"
      ],
      "execution_count": 0,
      "outputs": []
    },
    {
      "cell_type": "code",
      "metadata": {
        "id": "WMabmeBJ4AAM",
        "colab_type": "code",
        "outputId": "206a647b-b799-4f46-a0c9-12186dde7baf",
        "colab": {
          "base_uri": "https://localhost:8080/",
          "height": 318
        }
      },
      "source": [
        "# which one I refering to out of 10 classes that I have -> softmax function -> argmax : the max value's index\n",
        "show(0, 'The model thought this was a {} (class {}), and it was actually a {} (class {})'.format(\n",
        "  class_names[np.argmax(predictions[0])], y_test[0], class_names[np.argmax(predictions[0])], y_test[0]))"
      ],
      "execution_count": 34,
      "outputs": [
        {
          "output_type": "display_data",
          "data": {
            "image/png": "[encoded data removed]",
            "text/plain": [
              "<Figure size 432x288 with 1 Axes>"
            ]
          },
          "metadata": {
            "tags": []
          }
        }
      ]
    },
    {
      "cell_type": "code",
      "metadata": {
        "id": "5kCu7cnB4Az6",
        "colab_type": "code",
        "outputId": "7946e0e7-fbb9-488a-e3e6-208008c49a4f",
        "colab": {
          "base_uri": "https://localhost:8080/",
          "height": 920
        }
      },
      "source": [
        "headers = {\"content-type\": \"application/json\"}\n",
        "json_response = requests.post('http://localhost:8501/v1/models/fashion_model/versions/1:predict', data=data, headers=headers)\n",
        "predictions = json.loads(json_response.text)['predictions']\n",
        "\n",
        "for i in range(0,3):\n",
        "  show(i, 'The model thought this was a {} (class {}), and it was actually a {} (class {})'.format(\n",
        "    class_names[np.argmax(predictions[i])], y_test[i], class_names[np.argmax(predictions[i])], y_test[i]))"
      ],
      "execution_count": 35,
      "outputs": [
        {
          "output_type": "display_data",
          "data": {
            "image/png": "[encoded data removed]",
            "text/plain": [
              "<Figure size 432x288 with 1 Axes>"
            ]
          },
          "metadata": {
            "tags": []
          }
        },
        {
          "output_type": "display_data",
          "data": {
            "image/png": "[encoded data removed]",
            "text/plain": [
              "<Figure size 432x288 with 1 Axes>"
            ]
          },
          "metadata": {
            "tags": []
          }
        },
        {
          "output_type": "display_data",
          "data": {
            "image/png": "[encoded data removed]",
            "text/plain": [
              "<Figure size 432x288 with 1 Axes>"
            ]
          },
          "metadata": {
            "tags": []
          }
        }
      ]
    },
    {
      "cell_type": "code",
      "metadata": {
        "id": "BYyQnvahWTWW",
        "colab_type": "code",
        "colab": {}
      },
      "source": [
        ""
      ],
      "execution_count": 0,
      "outputs": []
    }
  ]
}